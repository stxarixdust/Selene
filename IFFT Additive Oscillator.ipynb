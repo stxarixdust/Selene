{
 "cells": [
  {
   "cell_type": "markdown",
   "metadata": {},
   "source": [
    "# IFFT Additive Oscillator\n",
    "\n",
    "This is an implementation of an additive oscillator that is more fit for larger\n",
    "amounts of overtones."
   ]
  },
  {
   "cell_type": "markdown",
   "metadata": {},
   "source": [
    "## Making a saw wave"
   ]
  },
  {
   "cell_type": "markdown",
   "metadata": {},
   "source": [
    "First, both pyplot and numpy are imported. Pyplot purely serves visualization\n",
    "purposes, but numpy is required for most mathematical operations including the\n",
    "fourier transforms.\n",
    "\n",
    "`samples` will provide the array size used by both the fft and ifft. The\n",
    "maximum amplitude is needed later for the bins of the IFFT. In short, the more\n",
    "samples there are, the higher the magnitude for the bins have to be to reach\n",
    "the same amplitude in the time-domain representation (the waveform)"
   ]
  },
  {
   "cell_type": "code",
   "execution_count": 10,
   "metadata": {},
   "outputs": [],
   "source": [
    "import matplotlib.pyplot as plt\n",
    "import numpy as np\n",
    "\n",
    "samples = 1024\n",
    "maxAmp = samples / np.pi"
   ]
  },
  {
   "cell_type": "markdown",
   "metadata": {},
   "source": [
    "Now, an array of `samples` length is created. It's composed of complex numbers\n",
    "whose real and imaginary parts are first set to only zeros. The imaginary part\n",
    "will later be used for frequency bin magnitude information. The real part can be\n",
    "ignored for now."
   ]
  },
  {
   "cell_type": "code",
   "execution_count": 11,
   "metadata": {},
   "outputs": [],
   "source": [
    "a = np.ndarray(samples, complex)\n",
    "a.real = np.zeros(samples)\n",
    "a.imag = np.zeros(samples)"
   ]
  },
  {
   "cell_type": "markdown",
   "metadata": {},
   "source": [
    "The imaginary part of the array is set to the spectral data of a saw wave. A saw\n",
    "wave can be constructed additively through this function:\n",
    "\n",
    "$$\n",
    "y(x)= \\sum_{n=1}^{m}\\frac{A}{n}\\cdot\\sin\\left(x\\right)\n",
    "$$\n",
    "\n",
    "Where $A$ is the desired maximum amplitude per partial and $m$ is the overtone\n",
    "count. $A$, in this case, is `maxAmp`, and $m$ is `samples`. Implementing this,\n",
    "to create a saw wave, a loop is required, which loops over the imaginary part,\n",
    "and, for each harmonic, sets the magnitude of the current bin to `maxAmp / n`.\n",
    "The loop goes on for `samples // 2` steps because of the symmetrical nature of\n",
    "FFT data. This means that the final step is to symmetrically set the bins on the\n",
    "latter half of the imaginary part to the inverse of the former half."
   ]
  },
  {
   "cell_type": "code",
   "execution_count": 12,
   "metadata": {},
   "outputs": [],
   "source": [
    "for n in range(1,samples // 2):\n",
    "  s = maxAmp / n\n",
    "  a.imag[n] = -s\n",
    "  a.imag[samples - n] = s"
   ]
  },
  {
   "cell_type": "markdown",
   "metadata": {},
   "source": [
    "Now, let's look at the result:"
   ]
  },
  {
   "cell_type": "code",
   "execution_count": 13,
   "metadata": {},
   "outputs": [
    {
     "name": "stdout",
     "output_type": "stream",
     "text": [
      "(Waveform) Time Domain\n"
     ]
    },
    {
     "data": {
      "image/png": "[encoded data removed]",
      "text/plain": [
       "<Figure size 432x288 with 1 Axes>"
      ]
     },
     "metadata": {
      "needs_background": "light"
     },
     "output_type": "display_data"
    },
    {
     "name": "stdout",
     "output_type": "stream",
     "text": [
      "(Power Scale) Frequency Domain\n"
     ]
    },
    {
     "data": {
      "image/png": "[encoded data removed]",
      "text/plain": [
       "<Figure size 432x288 with 1 Axes>"
      ]
     },
     "metadata": {
      "needs_background": "light"
     },
     "output_type": "display_data"
    }
   ],
   "source": [
    "display_data(a)"
   ]
  },
  {
   "cell_type": "markdown",
   "metadata": {},
   "source": [
    "## Ignore"
   ]
  },
  {
   "cell_type": "code",
   "execution_count": 14,
   "metadata": {},
   "outputs": [],
   "source": [
    "def display_data(a):\n",
    "  print(\"(Waveform) Time Domain\")\n",
    "\n",
    "  plt.plot(np.fft.ifft(a).real, label='time domain')\n",
    "  plt.show()\n",
    "\n",
    "  s = np.abs(a)[:samples//2]\n",
    "\n",
    "  print(\"(Power Scale) Frequency Domain\")\n",
    "\n",
    "  for n in range(1,samples // 2):\n",
    "    s[n] *= n\n",
    "\n",
    "  plt.plot(s, label='frequency domain')\n",
    "  plt.show()"
   ]
  }
 ],
 "metadata": {
  "kernelspec": {
   "display_name": "Python 3.10.4 64-bit",
   "language": "python",
   "name": "python3"
  },
  "language_info": {
   "codemirror_mode": {
    "name": "ipython",
    "version": 3
   },
   "file_extension": ".py",
   "mimetype": "text/x-python",
   "name": "python",
   "nbconvert_exporter": "python",
   "pygments_lexer": "ipython3",
   "version": "3.10.4"
  },
  "orig_nbformat": 4,
  "vscode": {
   "interpreter": {
    "hash": "916dbcbb3f70747c44a77c7bcd40155683ae19c65e1c03b4aa3499c5328201f1"
   }
  }
 },
 "nbformat": 4,
 "nbformat_minor": 2
}
